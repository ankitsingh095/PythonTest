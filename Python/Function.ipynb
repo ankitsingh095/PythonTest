{
 "cells": [
  {
   "cell_type": "code",
   "execution_count": 1,
   "id": "4b342262",
   "metadata": {},
   "outputs": [],
   "source": [
    "def name_of_function(ankit):\n",
    "    print(\"Hello\"+ ankit)"
   ]
  },
  {
   "cell_type": "code",
   "execution_count": 3,
   "id": "67eb6b91",
   "metadata": {},
   "outputs": [
    {
     "name": "stdout",
     "output_type": "stream",
     "text": [
      "HelloJose\n"
     ]
    }
   ],
   "source": [
    "name_of_function(\"Jose\")"
   ]
  },
  {
   "cell_type": "code",
   "execution_count": 4,
   "id": "7ec61e10",
   "metadata": {},
   "outputs": [],
   "source": [
    "def say_hello(name = \"Default\"):\n",
    "    print(f'Hello{name}')"
   ]
  },
  {
   "cell_type": "code",
   "execution_count": 5,
   "id": "238890b7",
   "metadata": {},
   "outputs": [
    {
     "name": "stdout",
     "output_type": "stream",
     "text": [
      "HelloDefault\n"
     ]
    }
   ],
   "source": [
    "say_hello()"
   ]
  },
  {
   "cell_type": "code",
   "execution_count": 6,
   "id": "00f57659",
   "metadata": {},
   "outputs": [
    {
     "ename": "NameError",
     "evalue": "name 'Ankit' is not defined",
     "output_type": "error",
     "traceback": [
      "\u001b[1;31m---------------------------------------------------------------------------\u001b[0m",
      "\u001b[1;31mNameError\u001b[0m                                 Traceback (most recent call last)",
      "\u001b[1;32m~\\AppData\\Local\\Temp\\ipykernel_3880\\2465869487.py\u001b[0m in \u001b[0;36m<module>\u001b[1;34m\u001b[0m\n\u001b[1;32m----> 1\u001b[1;33m \u001b[0msay_hello\u001b[0m\u001b[1;33m(\u001b[0m\u001b[0mAnkit\u001b[0m\u001b[1;33m)\u001b[0m\u001b[1;33m\u001b[0m\u001b[1;33m\u001b[0m\u001b[0m\n\u001b[0m",
      "\u001b[1;31mNameError\u001b[0m: name 'Ankit' is not defined"
     ]
    }
   ],
   "source": [
    "say_hello(Ankit)"
   ]
  },
  {
   "cell_type": "code",
   "execution_count": 7,
   "id": "bb836d33",
   "metadata": {},
   "outputs": [
    {
     "name": "stdout",
     "output_type": "stream",
     "text": [
      "HelloAnkit\n"
     ]
    }
   ],
   "source": [
    "say_hello('Ankit')"
   ]
  },
  {
   "cell_type": "code",
   "execution_count": 8,
   "id": "1faa0644",
   "metadata": {},
   "outputs": [],
   "source": [
    " def even_check(number):\n",
    "        result = number%2==0\n",
    "        return result"
   ]
  },
  {
   "cell_type": "code",
   "execution_count": 9,
   "id": "27c82e97",
   "metadata": {},
   "outputs": [
    {
     "data": {
      "text/plain": [
       "False"
      ]
     },
     "execution_count": 9,
     "metadata": {},
     "output_type": "execute_result"
    }
   ],
   "source": [
    "even_check(193749)"
   ]
  },
  {
   "cell_type": "code",
   "execution_count": 10,
   "id": "6431fb4f",
   "metadata": {},
   "outputs": [],
   "source": [
    " def even_check(num):\n",
    "        return num%2==0"
   ]
  },
  {
   "cell_type": "code",
   "execution_count": 11,
   "id": "29c4ea4f",
   "metadata": {},
   "outputs": [
    {
     "data": {
      "text/plain": [
       "True"
      ]
     },
     "execution_count": 11,
     "metadata": {},
     "output_type": "execute_result"
    }
   ],
   "source": [
    "even_check(40)"
   ]
  },
  {
   "cell_type": "code",
   "execution_count": 13,
   "id": "fd713f20",
   "metadata": {},
   "outputs": [
    {
     "ename": "SyntaxError",
     "evalue": "invalid syntax (2692741105.py, line 3)",
     "output_type": "error",
     "traceback": [
      "\u001b[1;36m  File \u001b[1;32m\"C:\\Users\\Maadurga computer\\AppData\\Local\\Temp\\ipykernel_3880\\2692741105.py\"\u001b[1;36m, line \u001b[1;32m3\u001b[0m\n\u001b[1;33m    if mylist%2==0\u001b[0m\n\u001b[1;37m                  ^\u001b[0m\n\u001b[1;31mSyntaxError\u001b[0m\u001b[1;31m:\u001b[0m invalid syntax\n"
     ]
    }
   ],
   "source": [
    "mylist=[2,44,65,565,6,6]\n",
    "for check in mylist:\n",
    "    if mylist%2==0"
   ]
  },
  {
   "cell_type": "code",
   "execution_count": 15,
   "id": "80748758",
   "metadata": {},
   "outputs": [],
   "source": [
    "def check_even_list(num_list):\n",
    "    \n",
    "    for number in num_list:\n",
    "        if number%2==0:\n",
    "            return True\n",
    "    else:\n",
    "        pass"
   ]
  },
  {
   "cell_type": "code",
   "execution_count": 16,
   "id": "27c8f8c8",
   "metadata": {},
   "outputs": [
    {
     "data": {
      "text/plain": [
       "True"
      ]
     },
     "execution_count": 16,
     "metadata": {},
     "output_type": "execute_result"
    }
   ],
   "source": [
    "check_even_list([2,5,7,4,2])"
   ]
  },
  {
   "cell_type": "code",
   "execution_count": 22,
   "id": "20315d88",
   "metadata": {},
   "outputs": [],
   "source": [
    "def check_even_num(num_list):\n",
    "    \n",
    "    even_number=[]\n",
    "    for number in num_list:\n",
    "        if number%2==0:\n",
    "            even_number.append(number)\n",
    "        else:\n",
    "            pass\n",
    "        \n",
    "    return even_number   "
   ]
  },
  {
   "cell_type": "code",
   "execution_count": 23,
   "id": "7f47213a",
   "metadata": {},
   "outputs": [
    {
     "data": {
      "text/plain": [
       "[4, 6, 8]"
      ]
     },
     "execution_count": 23,
     "metadata": {},
     "output_type": "execute_result"
    }
   ],
   "source": [
    "check_even_num([1,4,6,5,8,9])"
   ]
  },
  {
   "cell_type": "code",
   "execution_count": 24,
   "id": "c6ce7580",
   "metadata": {},
   "outputs": [],
   "source": [
    "work_hours = [('Ankit',500),('Riya',300),('Tejasvi',600),('Arpita',1800)]\n"
   ]
  },
  {
   "cell_type": "code",
   "execution_count": 26,
   "id": "721ad009",
   "metadata": {},
   "outputs": [],
   "source": [
    "def employee_check(work_hours):\n",
    "    \n",
    "    current_max = 0\n",
    "    employee_of_the_month=''\n",
    "    \n",
    "    for employee, hours in work_hours:\n",
    "        if hours > current_max:\n",
    "            current_max=hours\n",
    "            employee_of_the_month = employee\n",
    "            \n",
    "        else:\n",
    "            pass\n",
    "        \n",
    "        \n",
    "    return (employee_of_the_month, hours)  "
   ]
  },
  {
   "cell_type": "code",
   "execution_count": 28,
   "id": "69a6f185",
   "metadata": {},
   "outputs": [
    {
     "data": {
      "text/plain": [
       "('Arpita', 1800)"
      ]
     },
     "execution_count": 28,
     "metadata": {},
     "output_type": "execute_result"
    }
   ],
   "source": [
    "employee_check(work_hours)"
   ]
  },
  {
   "cell_type": "code",
   "execution_count": 29,
   "id": "9f4c7b01",
   "metadata": {},
   "outputs": [],
   "source": [
    "example=[1,2,3,4,5,6,7,78,8]"
   ]
  },
  {
   "cell_type": "code",
   "execution_count": 30,
   "id": "7a6fc947",
   "metadata": {},
   "outputs": [],
   "source": [
    "from random import shuffle"
   ]
  },
  {
   "cell_type": "code",
   "execution_count": 31,
   "id": "f0c45ae2",
   "metadata": {},
   "outputs": [],
   "source": [
    "shuffle(example)"
   ]
  },
  {
   "cell_type": "code",
   "execution_count": 32,
   "id": "b491635e",
   "metadata": {},
   "outputs": [
    {
     "data": {
      "text/plain": [
       "[1, 3, 78, 8, 7, 6, 5, 2, 4]"
      ]
     },
     "execution_count": 32,
     "metadata": {},
     "output_type": "execute_result"
    }
   ],
   "source": [
    "example"
   ]
  },
  {
   "cell_type": "code",
   "execution_count": 33,
   "id": "7944704e",
   "metadata": {},
   "outputs": [
    {
     "data": {
      "text/plain": [
       "[1, 3, 78, 8, 7, 6, 5, 2, 4]"
      ]
     },
     "execution_count": 33,
     "metadata": {},
     "output_type": "execute_result"
    }
   ],
   "source": [
    "example"
   ]
  },
  {
   "cell_type": "code",
   "execution_count": 34,
   "id": "ced9adc6",
   "metadata": {},
   "outputs": [],
   "source": [
    "def shuffle_list(example):\n",
    "    shuffle(example)\n",
    "    return example"
   ]
  },
  {
   "cell_type": "code",
   "execution_count": 35,
   "id": "9f70235c",
   "metadata": {},
   "outputs": [
    {
     "ename": "NameError",
     "evalue": "name 'exaple' is not defined",
     "output_type": "error",
     "traceback": [
      "\u001b[1;31m---------------------------------------------------------------------------\u001b[0m",
      "\u001b[1;31mNameError\u001b[0m                                 Traceback (most recent call last)",
      "\u001b[1;32m~\\AppData\\Local\\Temp\\ipykernel_3880\\3112770.py\u001b[0m in \u001b[0;36m<module>\u001b[1;34m\u001b[0m\n\u001b[1;32m----> 1\u001b[1;33m \u001b[0mresult\u001b[0m \u001b[1;33m=\u001b[0m \u001b[0mshuffle\u001b[0m\u001b[1;33m(\u001b[0m\u001b[0mexaple\u001b[0m\u001b[1;33m)\u001b[0m\u001b[1;33m\u001b[0m\u001b[1;33m\u001b[0m\u001b[0m\n\u001b[0m",
      "\u001b[1;31mNameError\u001b[0m: name 'exaple' is not defined"
     ]
    }
   ],
   "source": [
    "result = shuffle(exaple)"
   ]
  },
  {
   "cell_type": "code",
   "execution_count": 36,
   "id": "3f88e8dc",
   "metadata": {},
   "outputs": [],
   "source": [
    "result = shuffle(example)"
   ]
  },
  {
   "cell_type": "code",
   "execution_count": 37,
   "id": "9d97f04c",
   "metadata": {},
   "outputs": [],
   "source": [
    "result"
   ]
  },
  {
   "cell_type": "code",
   "execution_count": 38,
   "id": "14a049fc",
   "metadata": {},
   "outputs": [],
   "source": [
    "result = shuffle_list(example)"
   ]
  },
  {
   "cell_type": "code",
   "execution_count": 39,
   "id": "1dc6e948",
   "metadata": {},
   "outputs": [
    {
     "data": {
      "text/plain": [
       "[78, 4, 5, 7, 1, 2, 3, 6, 8]"
      ]
     },
     "execution_count": 39,
     "metadata": {},
     "output_type": "execute_result"
    }
   ],
   "source": [
    "result"
   ]
  },
  {
   "cell_type": "code",
   "execution_count": 40,
   "id": "d5ddcd67",
   "metadata": {},
   "outputs": [],
   "source": [
    "mylist = ['','0',' ']"
   ]
  },
  {
   "cell_type": "code",
   "execution_count": 41,
   "id": "2cc6c43c",
   "metadata": {},
   "outputs": [
    {
     "data": {
      "text/plain": [
       "['0', ' ', '']"
      ]
     },
     "execution_count": 41,
     "metadata": {},
     "output_type": "execute_result"
    }
   ],
   "source": [
    "shuffle_list(mylist)"
   ]
  },
  {
   "cell_type": "code",
   "execution_count": 42,
   "id": "84840fb6",
   "metadata": {},
   "outputs": [],
   "source": [
    "def player_guess():\n",
    "    \n",
    "    guess=''\n",
    "    \n",
    "    while guess not in ['0','1','2']:\n",
    "        guess = input(\"Pick a number:0,1,or 2\")\n",
    "        \n",
    "    return int(guess)    "
   ]
  },
  {
   "cell_type": "code",
   "execution_count": 43,
   "id": "f575ef72",
   "metadata": {},
   "outputs": [
    {
     "data": {
      "text/plain": [
       "<function __main__.player_guess()>"
      ]
     },
     "execution_count": 43,
     "metadata": {},
     "output_type": "execute_result"
    }
   ],
   "source": [
    "player_guess"
   ]
  },
  {
   "cell_type": "code",
   "execution_count": 44,
   "id": "2771b3a4",
   "metadata": {},
   "outputs": [
    {
     "name": "stdout",
     "output_type": "stream",
     "text": [
      "Pick a number:0,1,or 22\n"
     ]
    },
    {
     "data": {
      "text/plain": [
       "2"
      ]
     },
     "execution_count": 44,
     "metadata": {},
     "output_type": "execute_result"
    }
   ],
   "source": [
    "player_guess()"
   ]
  },
  {
   "cell_type": "code",
   "execution_count": 45,
   "id": "43d94df7",
   "metadata": {},
   "outputs": [
    {
     "ename": "TypeError",
     "evalue": "player_guess() takes 0 positional arguments but 1 was given",
     "output_type": "error",
     "traceback": [
      "\u001b[1;31m---------------------------------------------------------------------------\u001b[0m",
      "\u001b[1;31mTypeError\u001b[0m                                 Traceback (most recent call last)",
      "\u001b[1;32m~\\AppData\\Local\\Temp\\ipykernel_3880\\3137611246.py\u001b[0m in \u001b[0;36m<module>\u001b[1;34m\u001b[0m\n\u001b[1;32m----> 1\u001b[1;33m \u001b[0mplayer_guess\u001b[0m\u001b[1;33m(\u001b[0m\u001b[1;36m30\u001b[0m\u001b[1;33m)\u001b[0m\u001b[1;33m\u001b[0m\u001b[1;33m\u001b[0m\u001b[0m\n\u001b[0m",
      "\u001b[1;31mTypeError\u001b[0m: player_guess() takes 0 positional arguments but 1 was given"
     ]
    }
   ],
   "source": [
    "player_guess(30)"
   ]
  },
  {
   "cell_type": "code",
   "execution_count": 46,
   "id": "46314910",
   "metadata": {},
   "outputs": [
    {
     "name": "stdout",
     "output_type": "stream",
     "text": [
      "Pick a number:0,1,or 25\n",
      "Pick a number:0,1,or 25\n",
      "Pick a number:0,1,or 27\n",
      "Pick a number:0,1,or 28\n",
      "Pick a number:0,1,or 2\n",
      "Pick a number:0,1,or 2\n",
      "Pick a number:0,1,or 2\n",
      "Pick a number:0,1,or 243\n",
      "Pick a number:0,1,or 234\n",
      "Pick a number:0,1,or 21\n"
     ]
    },
    {
     "data": {
      "text/plain": [
       "1"
      ]
     },
     "execution_count": 46,
     "metadata": {},
     "output_type": "execute_result"
    }
   ],
   "source": [
    "player_guess()"
   ]
  },
  {
   "cell_type": "code",
   "execution_count": 47,
   "id": "28b55040",
   "metadata": {},
   "outputs": [
    {
     "name": "stdout",
     "output_type": "stream",
     "text": [
      "Pick a number:0,1,or 22\n"
     ]
    }
   ],
   "source": [
    "myindex=player_guess()"
   ]
  },
  {
   "cell_type": "code",
   "execution_count": 48,
   "id": "9fb07650",
   "metadata": {},
   "outputs": [
    {
     "data": {
      "text/plain": [
       "2"
      ]
     },
     "execution_count": 48,
     "metadata": {},
     "output_type": "execute_result"
    }
   ],
   "source": [
    "myindex"
   ]
  },
  {
   "cell_type": "code",
   "execution_count": 49,
   "id": "e1836d88",
   "metadata": {},
   "outputs": [
    {
     "ename": "IndentationError",
     "evalue": "expected an indented block (781851370.py, line 1)",
     "output_type": "error",
     "traceback": [
      "\u001b[1;36m  File \u001b[1;32m\"C:\\Users\\Maadurga computer\\AppData\\Local\\Temp\\ipykernel_3880\\781851370.py\"\u001b[1;36m, line \u001b[1;32m1\u001b[0m\n\u001b[1;33m    def check_guess(mylist,guess):\u001b[0m\n\u001b[1;37m                                  ^\u001b[0m\n\u001b[1;31mIndentationError\u001b[0m\u001b[1;31m:\u001b[0m expected an indented block\n"
     ]
    }
   ],
   "source": [
    "def check_guess(mylist,guess):\n",
    "    if mylist[guess] == '0':"
   ]
  },
  {
   "cell_type": "code",
   "execution_count": 50,
   "id": "fe787a6a",
   "metadata": {},
   "outputs": [],
   "source": [
    "def check_guess(myList,guess):\n",
    "    if mylist[guess] =='0':\n",
    "        print(\"Correct\")\n",
    "    else:\n",
    "        print(\"Wrong guess\")\n",
    "        print(mylist)"
   ]
  },
  {
   "cell_type": "code",
   "execution_count": 51,
   "id": "68675c22",
   "metadata": {},
   "outputs": [],
   "source": [
    "mylist = [' ', ' 0', ' ']\n",
    "    \n",
    "mixedup_list = shuffle_list(mylist)"
   ]
  },
  {
   "cell_type": "code",
   "execution_count": null,
   "id": "4f8c56da",
   "metadata": {},
   "outputs": [
    {
     "name": "stdout",
     "output_type": "stream",
     "text": [
      "Pick a number:0,1,or 25\n",
      "Pick a number:0,1,or 26\n",
      "Pick a number:0,1,or 24\n",
      "Pick a number:0,1,or 26\n"
     ]
    }
   ],
   "source": [
    "guess = player_guess()\n",
    "\n",
    "check_guess(mixedup_list,guess)"
   ]
  },
  {
   "cell_type": "code",
   "execution_count": 3,
   "id": "5f876f38",
   "metadata": {},
   "outputs": [],
   "source": [
    "def myfunc(**kwargs):\n",
    "    print(kwargs)\n",
    "    if 'fruits' in kwargs:\n",
    "        print('My fruits of choice is{}'.format(kwargs['fruits']))\n",
    "    else:\n",
    "        print(\"I dont find any fruits here\")"
   ]
  },
  {
   "cell_type": "code",
   "execution_count": 4,
   "id": "3ba7e905",
   "metadata": {},
   "outputs": [
    {
     "name": "stdout",
     "output_type": "stream",
     "text": [
      "{'vege': 'Kaddu', 'fruits': 'apple'}\n",
      "My fruits of choice isapple\n"
     ]
    }
   ],
   "source": [
    "myfunc(vege='Kaddu', fruits='apple')"
   ]
  },
  {
   "cell_type": "code",
   "execution_count": null,
   "id": "437970b9",
   "metadata": {},
   "outputs": [],
   "source": []
  },
  {
   "cell_type": "code",
   "execution_count": 1,
   "id": "890e22c3",
   "metadata": {},
   "outputs": [
    {
     "name": "stdout",
     "output_type": "stream",
     "text": [
      "0\n",
      "1\n",
      "2\n",
      "3\n",
      "4\n",
      "5\n",
      "6\n",
      "7\n",
      "8\n",
      "9\n"
     ]
    }
   ],
   "source": [
    "for i in range(10):\n",
    "    print(i)"
   ]
  },
  {
   "cell_type": "code",
   "execution_count": null,
   "id": "06f1f085",
   "metadata": {},
   "outputs": [],
   "source": []
  },
  {
   "cell_type": "code",
   "execution_count": 5,
   "id": "7d126f7b",
   "metadata": {},
   "outputs": [
    {
     "name": "stdout",
     "output_type": "stream",
     "text": [
      "{'vege': 'Kaddu', 'fruits': 'apple'}\n",
      "My fruits of choice isapple\n"
     ]
    }
   ],
   "source": [
    "myfunc(vege='Kaddu', fruits='apple')"
   ]
  },
  {
   "cell_type": "code",
   "execution_count": null,
   "id": "d1bae425",
   "metadata": {},
   "outputs": [],
   "source": []
  },
  {
   "cell_type": "code",
   "execution_count": null,
   "id": "ff84b9d0",
   "metadata": {},
   "outputs": [],
   "source": []
  },
  {
   "cell_type": "code",
   "execution_count": null,
   "id": "87ea6ee1",
   "metadata": {},
   "outputs": [],
   "source": []
  },
  {
   "cell_type": "code",
   "execution_count": null,
   "id": "d84456d8",
   "metadata": {},
   "outputs": [],
   "source": []
  },
  {
   "cell_type": "code",
   "execution_count": null,
   "id": "d02e7cbd",
   "metadata": {},
   "outputs": [],
   "source": []
  },
  {
   "cell_type": "code",
   "execution_count": null,
   "id": "323ee3a9",
   "metadata": {},
   "outputs": [],
   "source": []
  },
  {
   "cell_type": "code",
   "execution_count": 24,
   "id": "51bf540a",
   "metadata": {},
   "outputs": [],
   "source": [
    "def myfun(a,b):\n",
    "    if(a<b):\n",
    "        if(a%2==0 and b%2==0):\n",
    "            return a\n",
    "        else:\n",
    "            return b\n",
    "        pass\n",
    "    elif(a>b):\n",
    "        if(a%2==1 or b%2==1):\n",
    "            return a\n",
    "        else:\n",
    "            return b\n",
    "        pass\n",
    "        "
   ]
  },
  {
   "cell_type": "code",
   "execution_count": 25,
   "id": "8edb114c",
   "metadata": {},
   "outputs": [
    {
     "ename": "TypeError",
     "evalue": "myfunc() takes 0 positional arguments but 2 were given",
     "output_type": "error",
     "traceback": [
      "\u001b[1;31m---------------------------------------------------------------------------\u001b[0m",
      "\u001b[1;31mTypeError\u001b[0m                                 Traceback (most recent call last)",
      "\u001b[1;32m~\\AppData\\Local\\Temp\\ipykernel_22904\\2068309088.py\u001b[0m in \u001b[0;36m<module>\u001b[1;34m\u001b[0m\n\u001b[1;32m----> 1\u001b[1;33m \u001b[0mmyfunc\u001b[0m\u001b[1;33m(\u001b[0m\u001b[1;36m2\u001b[0m\u001b[1;33m,\u001b[0m\u001b[1;36m3\u001b[0m\u001b[1;33m)\u001b[0m\u001b[1;33m\u001b[0m\u001b[1;33m\u001b[0m\u001b[0m\n\u001b[0m",
      "\u001b[1;31mTypeError\u001b[0m: myfunc() takes 0 positional arguments but 2 were given"
     ]
    }
   ],
   "source": [
    "myfunc(2,3)"
   ]
  },
  {
   "cell_type": "code",
   "execution_count": 15,
   "id": "b8654512",
   "metadata": {},
   "outputs": [
    {
     "ename": "TypeError",
     "evalue": "myfunc() takes 0 positional arguments but 2 were given",
     "output_type": "error",
     "traceback": [
      "\u001b[1;31m---------------------------------------------------------------------------\u001b[0m",
      "\u001b[1;31mTypeError\u001b[0m                                 Traceback (most recent call last)",
      "\u001b[1;32m~\\AppData\\Local\\Temp\\ipykernel_22904\\1749994565.py\u001b[0m in \u001b[0;36m<module>\u001b[1;34m\u001b[0m\n\u001b[1;32m----> 1\u001b[1;33m \u001b[0mmyfunc\u001b[0m\u001b[1;33m(\u001b[0m\u001b[1;36m2\u001b[0m\u001b[1;33m,\u001b[0m\u001b[1;36m4\u001b[0m\u001b[1;33m)\u001b[0m\u001b[1;33m\u001b[0m\u001b[1;33m\u001b[0m\u001b[0m\n\u001b[0m",
      "\u001b[1;31mTypeError\u001b[0m: myfunc() takes 0 positional arguments but 2 were given"
     ]
    }
   ],
   "source": [
    "myfunc(2,4)"
   ]
  },
  {
   "cell_type": "code",
   "execution_count": 26,
   "id": "b17927e3",
   "metadata": {},
   "outputs": [],
   "source": [
    "def lesser_of_two(a,b):\n",
    "    if a%2==0 and b%2==0:\n",
    "        return min(a,b)\n",
    "    else:\n",
    "        return max(a,b)"
   ]
  },
  {
   "cell_type": "code",
   "execution_count": 27,
   "id": "996b89c3",
   "metadata": {},
   "outputs": [
    {
     "data": {
      "text/plain": [
       "9"
      ]
     },
     "execution_count": 27,
     "metadata": {},
     "output_type": "execute_result"
    }
   ],
   "source": [
    "lesser_of_two(5,9)"
   ]
  },
  {
   "cell_type": "code",
   "execution_count": 28,
   "id": "017cfb56",
   "metadata": {},
   "outputs": [],
   "source": [
    "def two_word(text1,text2):\n",
    "    if text1[0]==text2[0]:\n",
    "        return True\n",
    "    else:\n",
    "        return False"
   ]
  },
  {
   "cell_type": "code",
   "execution_count": 29,
   "id": "334baaf8",
   "metadata": {},
   "outputs": [
    {
     "ename": "TypeError",
     "evalue": "two_word() missing 1 required positional argument: 'text2'",
     "output_type": "error",
     "traceback": [
      "\u001b[1;31m---------------------------------------------------------------------------\u001b[0m",
      "\u001b[1;31mTypeError\u001b[0m                                 Traceback (most recent call last)",
      "\u001b[1;32m~\\AppData\\Local\\Temp\\ipykernel_22904\\2659098709.py\u001b[0m in \u001b[0;36m<module>\u001b[1;34m\u001b[0m\n\u001b[1;32m----> 1\u001b[1;33m \u001b[0mtwo_word\u001b[0m\u001b[1;33m(\u001b[0m\u001b[1;34m'ankit golu'\u001b[0m\u001b[1;33m)\u001b[0m\u001b[1;33m\u001b[0m\u001b[1;33m\u001b[0m\u001b[0m\n\u001b[0m",
      "\u001b[1;31mTypeError\u001b[0m: two_word() missing 1 required positional argument: 'text2'"
     ]
    }
   ],
   "source": [
    "two_word('ankit golu')"
   ]
  },
  {
   "cell_type": "code",
   "execution_count": 30,
   "id": "e6e26a52",
   "metadata": {},
   "outputs": [
    {
     "ename": "SyntaxError",
     "evalue": "invalid syntax (1749811406.py, line 1)",
     "output_type": "error",
     "traceback": [
      "\u001b[1;36m  File \u001b[1;32m\"C:\\Users\\Maadurga computer\\AppData\\Local\\Temp\\ipykernel_22904\\1749811406.py\"\u001b[1;36m, line \u001b[1;32m1\u001b[0m\n\u001b[1;33m    two_word(ankit golu)\u001b[0m\n\u001b[1;37m                   ^\u001b[0m\n\u001b[1;31mSyntaxError\u001b[0m\u001b[1;31m:\u001b[0m invalid syntax\n"
     ]
    }
   ],
   "source": [
    "two_word(ankit golu)"
   ]
  },
  {
   "cell_type": "code",
   "execution_count": 34,
   "id": "0bfd1aeb",
   "metadata": {},
   "outputs": [],
   "source": [
    "def animal_crackers(text):\n",
    "    wordlist = text.split()\n",
    "    return wordlist[0][0]==wordlist[1][0]"
   ]
  },
  {
   "cell_type": "code",
   "execution_count": 35,
   "id": "47d1c895",
   "metadata": {},
   "outputs": [
    {
     "data": {
      "text/plain": [
       "False"
      ]
     },
     "execution_count": 35,
     "metadata": {},
     "output_type": "execute_result"
    }
   ],
   "source": [
    "animal_crackers('dog king')"
   ]
  },
  {
   "cell_type": "code",
   "execution_count": 43,
   "id": "f2a786c7",
   "metadata": {},
   "outputs": [
    {
     "ename": "SyntaxError",
     "evalue": "invalid syntax (3859391346.py, line 1)",
     "output_type": "error",
     "traceback": [
      "\u001b[1;36m  File \u001b[1;32m\"C:\\Users\\Maadurga computer\\AppData\\Local\\Temp\\ipykernel_22904\\3859391346.py\"\u001b[1;36m, line \u001b[1;32m1\u001b[0m\n\u001b[1;33m    def makes_twenty(int(a,b)):\u001b[0m\n\u001b[1;37m                        ^\u001b[0m\n\u001b[1;31mSyntaxError\u001b[0m\u001b[1;31m:\u001b[0m invalid syntax\n"
     ]
    }
   ],
   "source": [
    "def makes_twenty(a,b):\n",
    "    if sum(a,b)==20 or a==20:\n",
    "        return True\n",
    "    \n",
    "    else:\n",
    "        return False\n",
    "    "
   ]
  },
  {
   "cell_type": "code",
   "execution_count": 42,
   "id": "53373896",
   "metadata": {},
   "outputs": [
    {
     "ename": "TypeError",
     "evalue": "'int' object is not iterable",
     "output_type": "error",
     "traceback": [
      "\u001b[1;31m---------------------------------------------------------------------------\u001b[0m",
      "\u001b[1;31mTypeError\u001b[0m                                 Traceback (most recent call last)",
      "\u001b[1;32m~\\AppData\\Local\\Temp\\ipykernel_22904\\354225881.py\u001b[0m in \u001b[0;36m<module>\u001b[1;34m\u001b[0m\n\u001b[1;32m----> 1\u001b[1;33m \u001b[0mmakes_twenty\u001b[0m\u001b[1;33m(\u001b[0m\u001b[1;36m20\u001b[0m\u001b[1;33m,\u001b[0m\u001b[1;36m9\u001b[0m\u001b[1;33m)\u001b[0m\u001b[1;33m\u001b[0m\u001b[1;33m\u001b[0m\u001b[0m\n\u001b[0m",
      "\u001b[1;32m~\\AppData\\Local\\Temp\\ipykernel_22904\\1668579696.py\u001b[0m in \u001b[0;36mmakes_twenty\u001b[1;34m(a, b)\u001b[0m\n\u001b[0;32m      1\u001b[0m \u001b[1;32mdef\u001b[0m \u001b[0mmakes_twenty\u001b[0m\u001b[1;33m(\u001b[0m\u001b[0ma\u001b[0m\u001b[1;33m,\u001b[0m\u001b[0mb\u001b[0m\u001b[1;33m)\u001b[0m\u001b[1;33m:\u001b[0m\u001b[1;33m\u001b[0m\u001b[1;33m\u001b[0m\u001b[0m\n\u001b[1;32m----> 2\u001b[1;33m     \u001b[1;32mif\u001b[0m \u001b[0msum\u001b[0m\u001b[1;33m(\u001b[0m\u001b[0ma\u001b[0m\u001b[1;33m,\u001b[0m\u001b[0mb\u001b[0m\u001b[1;33m)\u001b[0m\u001b[1;33m==\u001b[0m\u001b[1;36m20\u001b[0m \u001b[1;32mor\u001b[0m \u001b[0ma\u001b[0m\u001b[1;33m==\u001b[0m\u001b[1;36m20\u001b[0m\u001b[1;33m:\u001b[0m\u001b[1;33m\u001b[0m\u001b[1;33m\u001b[0m\u001b[0m\n\u001b[0m\u001b[0;32m      3\u001b[0m         \u001b[1;32mreturn\u001b[0m \u001b[1;32mTrue\u001b[0m\u001b[1;33m\u001b[0m\u001b[1;33m\u001b[0m\u001b[0m\n\u001b[0;32m      4\u001b[0m \u001b[1;33m\u001b[0m\u001b[0m\n\u001b[0;32m      5\u001b[0m     \u001b[1;32melse\u001b[0m\u001b[1;33m:\u001b[0m\u001b[1;33m\u001b[0m\u001b[1;33m\u001b[0m\u001b[0m\n",
      "\u001b[1;31mTypeError\u001b[0m: 'int' object is not iterable"
     ]
    }
   ],
   "source": [
    "makes_twenty(20,9)"
   ]
  },
  {
   "cell_type": "code",
   "execution_count": 44,
   "id": "6b51f5d7",
   "metadata": {},
   "outputs": [],
   "source": [
    "def makes_twenty(n1,n2):\n",
    "    return(n1+n2)==20 or n1==20 or n2==20"
   ]
  },
  {
   "cell_type": "code",
   "execution_count": 45,
   "id": "3f9c2734",
   "metadata": {},
   "outputs": [
    {
     "data": {
      "text/plain": [
       "False"
      ]
     },
     "execution_count": 45,
     "metadata": {},
     "output_type": "execute_result"
    }
   ],
   "source": [
    "makes_twenty(30,40)"
   ]
  },
  {
   "cell_type": "code",
   "execution_count": 47,
   "id": "e51346aa",
   "metadata": {},
   "outputs": [],
   "source": [
    "def name(text):\n",
    "    return text[0].upper and text[3].upper"
   ]
  },
  {
   "cell_type": "code",
   "execution_count": 48,
   "id": "dec0e40b",
   "metadata": {},
   "outputs": [
    {
     "ename": "NameError",
     "evalue": "name 'ankit' is not defined",
     "output_type": "error",
     "traceback": [
      "\u001b[1;31m---------------------------------------------------------------------------\u001b[0m",
      "\u001b[1;31mNameError\u001b[0m                                 Traceback (most recent call last)",
      "\u001b[1;32m~\\AppData\\Local\\Temp\\ipykernel_22904\\3007164788.py\u001b[0m in \u001b[0;36m<module>\u001b[1;34m\u001b[0m\n\u001b[1;32m----> 1\u001b[1;33m \u001b[0mname\u001b[0m\u001b[1;33m(\u001b[0m\u001b[0mankit\u001b[0m\u001b[1;33m)\u001b[0m\u001b[1;33m\u001b[0m\u001b[1;33m\u001b[0m\u001b[0m\n\u001b[0m",
      "\u001b[1;31mNameError\u001b[0m: name 'ankit' is not defined"
     ]
    }
   ],
   "source": [
    "name(ankit)"
   ]
  },
  {
   "cell_type": "code",
   "execution_count": 49,
   "id": "9bdf58ea",
   "metadata": {},
   "outputs": [
    {
     "data": {
      "text/plain": [
       "<function str.upper()>"
      ]
     },
     "execution_count": 49,
     "metadata": {},
     "output_type": "execute_result"
    }
   ],
   "source": [
    "name(\"ankit\")"
   ]
  },
  {
   "cell_type": "code",
   "execution_count": 50,
   "id": "4abb98a1",
   "metadata": {},
   "outputs": [],
   "source": [
    "yoo=name(\"ankit\")"
   ]
  },
  {
   "cell_type": "code",
   "execution_count": 61,
   "id": "2e07f780",
   "metadata": {},
   "outputs": [
    {
     "data": {
      "text/plain": [
       "False"
      ]
     },
     "execution_count": 61,
     "metadata": {},
     "output_type": "execute_result"
    }
   ],
   "source": [
    "wordlist='Ankit' 'Ankit'\n",
    "wordlist[0][0] == wordlist[1][0]"
   ]
  },
  {
   "cell_type": "code",
   "execution_count": 62,
   "id": "301e904d",
   "metadata": {},
   "outputs": [],
   "source": [
    "def old_mac(name):\n",
    "    if len(name)>3:\n",
    "        return name[:3].capitalize()+name[3:].capitalize()\n",
    "    else:\n",
    "        return \"Name is too short\""
   ]
  },
  {
   "cell_type": "code",
   "execution_count": 53,
   "id": "a8e25adf",
   "metadata": {},
   "outputs": [
    {
     "ename": "SyntaxError",
     "evalue": "invalid syntax (2048892521.py, line 1)",
     "output_type": "error",
     "traceback": [
      "\u001b[1;36m  File \u001b[1;32m\"C:\\Users\\Maadurga computer\\AppData\\Local\\Temp\\ipykernel_22904\\2048892521.py\"\u001b[1;36m, line \u001b[1;32m1\u001b[0m\n\u001b[1;33m    def myfunc()\u001b[0m\n\u001b[1;37m                ^\u001b[0m\n\u001b[1;31mSyntaxError\u001b[0m\u001b[1;31m:\u001b[0m invalid syntax\n"
     ]
    }
   ],
   "source": [
    "def myfunc()"
   ]
  },
  {
   "cell_type": "code",
   "execution_count": 54,
   "id": "139eca29",
   "metadata": {},
   "outputs": [],
   "source": [
    "def myfunc(a,b):\n",
    "    if a%2==0 and b%2==0:\n",
    "        return min(a,b)\n",
    "    else:\n",
    "        return max(a,b)"
   ]
  },
  {
   "cell_type": "code",
   "execution_count": 55,
   "id": "62df4772",
   "metadata": {},
   "outputs": [
    {
     "data": {
      "text/plain": [
       "6"
      ]
     },
     "execution_count": 55,
     "metadata": {},
     "output_type": "execute_result"
    }
   ],
   "source": [
    "myfunc(3,6)"
   ]
  },
  {
   "cell_type": "code",
   "execution_count": 56,
   "id": "d3e7bc0d",
   "metadata": {},
   "outputs": [],
   "source": [
    "def myfunc(text):\n",
    "    wordlist=text.split()\n",
    "    return wordlist[0][0] == wordlist[1][0]"
   ]
  },
  {
   "cell_type": "code",
   "execution_count": 86,
   "id": "b8118345",
   "metadata": {},
   "outputs": [],
   "source": [
    "def myfunc(text):\n",
    "    return ' '.join(text.split()[::-1])"
   ]
  },
  {
   "cell_type": "code",
   "execution_count": 87,
   "id": "ff7f6529",
   "metadata": {},
   "outputs": [
    {
     "data": {
      "text/plain": [
       "'ANkit HEllo'"
      ]
     },
     "execution_count": 87,
     "metadata": {},
     "output_type": "execute_result"
    }
   ],
   "source": [
    "myfunc(\"HEllo ANkit\")"
   ]
  },
  {
   "cell_type": "code",
   "execution_count": 88,
   "id": "644c2e20",
   "metadata": {},
   "outputs": [
    {
     "ename": "SyntaxError",
     "evalue": "invalid syntax (2935533097.py, line 3)",
     "output_type": "error",
     "traceback": [
      "\u001b[1;36m  File \u001b[1;32m\"C:\\Users\\Maadurga computer\\AppData\\Local\\Temp\\ipykernel_22904\\2935533097.py\"\u001b[1;36m, line \u001b[1;32m3\u001b[0m\n\u001b[1;33m    if n=100-a and n<=10\u001b[0m\n\u001b[1;37m        ^\u001b[0m\n\u001b[1;31mSyntaxError\u001b[0m\u001b[1;31m:\u001b[0m invalid syntax\n"
     ]
    }
   ],
   "source": [
    "def myfunc(a):\n",
    "    \n",
    "    if n=100-a and n<=10\n",
    "       return True\n",
    "    else:\n",
    "        return False\n"
   ]
  },
  {
   "cell_type": "code",
   "execution_count": 89,
   "id": "696aa39b",
   "metadata": {},
   "outputs": [],
   "source": [
    "def almost_there(n):\n",
    "    return ((abs(100 - n) <=10) or (abs(200 - n) <= 10))"
   ]
  },
  {
   "cell_type": "code",
   "execution_count": 90,
   "id": "2b5dc044",
   "metadata": {},
   "outputs": [
    {
     "data": {
      "text/plain": [
       "False"
      ]
     },
     "execution_count": 90,
     "metadata": {},
     "output_type": "execute_result"
    }
   ],
   "source": [
    "almost_there(189)"
   ]
  },
  {
   "cell_type": "code",
   "execution_count": 91,
   "id": "2fec17d4",
   "metadata": {},
   "outputs": [],
   "source": [
    "def myfunc(a,b):\n",
    "    \n",
    "    if a%2 == 0 and b%2 == 0:\n",
    "        if a<b:\n",
    "            result = a\n",
    "        else:\n",
    "            result = b\n",
    "            \n",
    "    else:\n",
    "        if a>b:\n",
    "            result = a\n",
    "        else:\n",
    "            result = b\n",
    "            \n",
    "    return result      "
   ]
  },
  {
   "cell_type": "code",
   "execution_count": 92,
   "id": "24c000ef",
   "metadata": {},
   "outputs": [
    {
     "data": {
      "text/plain": [
       "4"
      ]
     },
     "execution_count": 92,
     "metadata": {},
     "output_type": "execute_result"
    }
   ],
   "source": [
    "myfunc(6,4)"
   ]
  },
  {
   "cell_type": "code",
   "execution_count": 93,
   "id": "6bf272cd",
   "metadata": {},
   "outputs": [],
   "source": [
    "def myfunc(n1,n2):\n",
    "    if n1 + n2 == 20:\n",
    "        return True\n",
    "    elif n1==20:\n",
    "        return True\n",
    "    elif n2== 20:\n",
    "        return True\n",
    "    else:\n",
    "        return False"
   ]
  },
  {
   "cell_type": "code",
   "execution_count": 100,
   "id": "90c689fb",
   "metadata": {},
   "outputs": [],
   "source": [
    "def old_macdonald(name):\n",
    "    first_letter = name[0]\n",
    "    inbetween = name[1:3]\n",
    "    fourth_letter = name[3]\n",
    "    \n",
    "    rest = name[4:]\n",
    "    \n",
    "    return first_letter.upper() + inbetween + fourth_letter.upper() + rest"
   ]
  },
  {
   "cell_type": "code",
   "execution_count": 101,
   "id": "2d20971d",
   "metadata": {},
   "outputs": [
    {
     "data": {
      "text/plain": [
       "'AnkItsinghismyname'"
      ]
     },
     "execution_count": 101,
     "metadata": {},
     "output_type": "execute_result"
    }
   ],
   "source": [
    "old_macdonald(\"ankitsinghismyname\")"
   ]
  },
  {
   "cell_type": "code",
   "execution_count": 99,
   "id": "fcb6dc30",
   "metadata": {},
   "outputs": [
    {
     "data": {
      "text/plain": [
       "'ankit'"
      ]
     },
     "execution_count": 99,
     "metadata": {},
     "output_type": "execute_result"
    }
   ],
   "source": [
    "old_macdonald('ankit')"
   ]
  },
  {
   "cell_type": "code",
   "execution_count": 106,
   "id": "0115262d",
   "metadata": {},
   "outputs": [],
   "source": [
    "\n",
    "    \n",
    "    \n",
    "     "
   ]
  },
  {
   "cell_type": "markdown",
   "id": "d8a80bc2",
   "metadata": {},
   "source": []
  },
  {
   "cell_type": "code",
   "execution_count": 107,
   "id": "7f3fe965",
   "metadata": {},
   "outputs": [
    {
     "ename": "NameError",
     "evalue": "name 'myd' is not defined",
     "output_type": "error",
     "traceback": [
      "\u001b[1;31m---------------------------------------------------------------------------\u001b[0m",
      "\u001b[1;31mNameError\u001b[0m                                 Traceback (most recent call last)",
      "\u001b[1;32m~\\AppData\\Local\\Temp\\ipykernel_22904\\1175986632.py\u001b[0m in \u001b[0;36m<module>\u001b[1;34m\u001b[0m\n\u001b[1;32m----> 1\u001b[1;33m \u001b[0mmyd\u001b[0m\u001b[1;33m\u001b[0m\u001b[1;33m\u001b[0m\u001b[0m\n\u001b[0m",
      "\u001b[1;31mNameError\u001b[0m: name 'myd' is not defined"
     ]
    }
   ],
   "source": [
    "myd"
   ]
  },
  {
   "cell_type": "code",
   "execution_count": 109,
   "id": "941c604c",
   "metadata": {},
   "outputs": [
    {
     "ename": "SyntaxError",
     "evalue": "invalid syntax (1871148378.py, line 2)",
     "output_type": "error",
     "traceback": [
      "\u001b[1;36m  File \u001b[1;32m\"C:\\Users\\Maadurga computer\\AppData\\Local\\Temp\\ipykernel_22904\\1871148378.py\"\u001b[1;36m, line \u001b[1;32m2\u001b[0m\n\u001b[1;33m    if nums[x]=nums[y]\u001b[0m\n\u001b[1;37m              ^\u001b[0m\n\u001b[1;31mSyntaxError\u001b[0m\u001b[1;31m:\u001b[0m invalid syntax\n"
     ]
    }
   ],
   "source": [
    "def myfunc(nums):\n",
    "    "
   ]
  },
  {
   "cell_type": "code",
   "execution_count": 114,
   "id": "887060e6",
   "metadata": {},
   "outputs": [],
   "source": [
    "def myfunc(nums):\n",
    "    for i in range(0, len(nums)-1):\n",
    "        if nums[i:i+2] == [3,3]:\n",
    "            return True\n",
    "    return False    "
   ]
  },
  {
   "cell_type": "code",
   "execution_count": 115,
   "id": "3f75253f",
   "metadata": {},
   "outputs": [
    {
     "ename": "TypeError",
     "evalue": "myfunc() takes 1 positional argument but 3 were given",
     "output_type": "error",
     "traceback": [
      "\u001b[1;31m---------------------------------------------------------------------------\u001b[0m",
      "\u001b[1;31mTypeError\u001b[0m                                 Traceback (most recent call last)",
      "\u001b[1;32m~\\AppData\\Local\\Temp\\ipykernel_22904\\2736496965.py\u001b[0m in \u001b[0;36m<module>\u001b[1;34m\u001b[0m\n\u001b[1;32m----> 1\u001b[1;33m \u001b[0mmyfunc\u001b[0m\u001b[1;33m(\u001b[0m\u001b[1;36m1\u001b[0m\u001b[1;33m,\u001b[0m\u001b[1;36m3\u001b[0m\u001b[1;33m,\u001b[0m\u001b[1;36m3\u001b[0m\u001b[1;33m)\u001b[0m\u001b[1;33m\u001b[0m\u001b[1;33m\u001b[0m\u001b[0m\n\u001b[0m",
      "\u001b[1;31mTypeError\u001b[0m: myfunc() takes 1 positional argument but 3 were given"
     ]
    }
   ],
   "source": [
    "myfunc(1,3,3)"
   ]
  },
  {
   "cell_type": "code",
   "execution_count": 120,
   "id": "ef340fe7",
   "metadata": {},
   "outputs": [],
   "source": [
    "def has_33(nums):\n",
    "    for i in range(0, len(nums)-1):\n",
    "      \n",
    "        # nicer looking alternative in commented code\n",
    "        #if nums[i] == 3 and nums[i+1] == 3:\n",
    "    \n",
    "        if nums[i:i+2] == [3,3]:\n",
    "            return True  \n",
    "    \n",
    "    \n",
    "        pass    \n",
    "            \n",
    "    return False"
   ]
  },
  {
   "cell_type": "code",
   "execution_count": 121,
   "id": "23d526ad",
   "metadata": {},
   "outputs": [
    {
     "ename": "TypeError",
     "evalue": "has_33() takes 1 positional argument but 3 were given",
     "output_type": "error",
     "traceback": [
      "\u001b[1;31m---------------------------------------------------------------------------\u001b[0m",
      "\u001b[1;31mTypeError\u001b[0m                                 Traceback (most recent call last)",
      "\u001b[1;32m~\\AppData\\Local\\Temp\\ipykernel_22904\\127797879.py\u001b[0m in \u001b[0;36m<module>\u001b[1;34m\u001b[0m\n\u001b[1;32m----> 1\u001b[1;33m \u001b[0mhas_33\u001b[0m\u001b[1;33m(\u001b[0m\u001b[1;36m2\u001b[0m\u001b[1;33m,\u001b[0m\u001b[1;36m3\u001b[0m\u001b[1;33m,\u001b[0m\u001b[1;36m3\u001b[0m\u001b[1;33m)\u001b[0m\u001b[1;33m\u001b[0m\u001b[1;33m\u001b[0m\u001b[0m\n\u001b[0m",
      "\u001b[1;31mTypeError\u001b[0m: has_33() takes 1 positional argument but 3 were given"
     ]
    }
   ],
   "source": [
    "has_33(2,3,3)"
   ]
  },
  {
   "cell_type": "code",
   "execution_count": 125,
   "id": "074a3854",
   "metadata": {},
   "outputs": [
    {
     "ename": "SyntaxError",
     "evalue": "'return' outside function (714541809.py, line 3)",
     "output_type": "error",
     "traceback": [
      "\u001b[1;36m  File \u001b[1;32m\"C:\\Users\\Maadurga computer\\AppData\\Local\\Temp\\ipykernel_22904\\714541809.py\"\u001b[1;36m, line \u001b[1;32m3\u001b[0m\n\u001b[1;33m    return ''.join()\u001b[0m\n\u001b[1;37m    ^\u001b[0m\n\u001b[1;31mSyntaxError\u001b[0m\u001b[1;31m:\u001b[0m 'return' outside function\n"
     ]
    }
   ],
   "source": [
    "def myfunc(text):\n",
    "    return (text.split()*3)\n",
    "return ''.join()"
   ]
  },
  {
   "cell_type": "code",
   "execution_count": 124,
   "id": "4703df9f",
   "metadata": {},
   "outputs": [
    {
     "data": {
      "text/plain": [
       "'AnkitAnkitAnkit'"
      ]
     },
     "execution_count": 124,
     "metadata": {},
     "output_type": "execute_result"
    }
   ],
   "source": [
    "myfunc('Ankit')"
   ]
  },
  {
   "cell_type": "code",
   "execution_count": 139,
   "id": "0ddb0e4d",
   "metadata": {},
   "outputs": [],
   "source": [
    "def myfunc(name):\n",
    "    name.split()\n",
    "    for i in name:\n",
    "        i*3\n",
    "        .append[name]\n",
    "    return name"
   ]
  },
  {
   "cell_type": "code",
   "execution_count": 140,
   "id": "30b2c5aa",
   "metadata": {},
   "outputs": [
    {
     "ename": "AttributeError",
     "evalue": "'str' object has no attribute 'append'",
     "output_type": "error",
     "traceback": [
      "\u001b[1;31m---------------------------------------------------------------------------\u001b[0m",
      "\u001b[1;31mAttributeError\u001b[0m                            Traceback (most recent call last)",
      "\u001b[1;32m~\\AppData\\Local\\Temp\\ipykernel_22904\\2995232138.py\u001b[0m in \u001b[0;36m<module>\u001b[1;34m\u001b[0m\n\u001b[1;32m----> 1\u001b[1;33m \u001b[0mmyfunc\u001b[0m\u001b[1;33m(\u001b[0m\u001b[1;34m'ankit'\u001b[0m\u001b[1;33m)\u001b[0m\u001b[1;33m\u001b[0m\u001b[1;33m\u001b[0m\u001b[0m\n\u001b[0m",
      "\u001b[1;32m~\\AppData\\Local\\Temp\\ipykernel_22904\\2017573640.py\u001b[0m in \u001b[0;36mmyfunc\u001b[1;34m(name)\u001b[0m\n\u001b[0;32m      3\u001b[0m     \u001b[1;32mfor\u001b[0m \u001b[0mi\u001b[0m \u001b[1;32min\u001b[0m \u001b[0mname\u001b[0m\u001b[1;33m:\u001b[0m\u001b[1;33m\u001b[0m\u001b[1;33m\u001b[0m\u001b[0m\n\u001b[0;32m      4\u001b[0m         \u001b[0mi\u001b[0m\u001b[1;33m*\u001b[0m\u001b[1;36m3\u001b[0m\u001b[1;33m\u001b[0m\u001b[1;33m\u001b[0m\u001b[0m\n\u001b[1;32m----> 5\u001b[1;33m         \u001b[0mi\u001b[0m\u001b[1;33m.\u001b[0m\u001b[0mappend\u001b[0m\u001b[1;33m[\u001b[0m\u001b[0mname\u001b[0m\u001b[1;33m]\u001b[0m\u001b[1;33m\u001b[0m\u001b[1;33m\u001b[0m\u001b[0m\n\u001b[0m\u001b[0;32m      6\u001b[0m     \u001b[1;32mreturn\u001b[0m \u001b[0mname\u001b[0m\u001b[1;33m\u001b[0m\u001b[1;33m\u001b[0m\u001b[0m\n",
      "\u001b[1;31mAttributeError\u001b[0m: 'str' object has no attribute 'append'"
     ]
    }
   ],
   "source": [
    "myfunc('ankit')"
   ]
  },
  {
   "cell_type": "code",
   "execution_count": 132,
   "id": "4420a935",
   "metadata": {},
   "outputs": [
    {
     "data": {
      "text/plain": [
       "<function __main__.myfunc(text)>"
      ]
     },
     "execution_count": 132,
     "metadata": {},
     "output_type": "execute_result"
    }
   ],
   "source": [
    "myfunc"
   ]
  },
  {
   "cell_type": "code",
   "execution_count": 141,
   "id": "fafc28f0",
   "metadata": {},
   "outputs": [],
   "source": [
    "def myfunc(text):\n",
    "    result = ''\n",
    "    for char in text:\n",
    "        result +=char*3\n",
    "    return result   "
   ]
  },
  {
   "cell_type": "code",
   "execution_count": 142,
   "id": "e5f8e8b2",
   "metadata": {},
   "outputs": [
    {
     "ename": "NameError",
     "evalue": "name 'ankit' is not defined",
     "output_type": "error",
     "traceback": [
      "\u001b[1;31m---------------------------------------------------------------------------\u001b[0m",
      "\u001b[1;31mNameError\u001b[0m                                 Traceback (most recent call last)",
      "\u001b[1;32m~\\AppData\\Local\\Temp\\ipykernel_22904\\2614593588.py\u001b[0m in \u001b[0;36m<module>\u001b[1;34m\u001b[0m\n\u001b[1;32m----> 1\u001b[1;33m \u001b[0mmyfunc\u001b[0m\u001b[1;33m(\u001b[0m\u001b[0mankit\u001b[0m\u001b[1;33m)\u001b[0m\u001b[1;33m\u001b[0m\u001b[1;33m\u001b[0m\u001b[0m\n\u001b[0m",
      "\u001b[1;31mNameError\u001b[0m: name 'ankit' is not defined"
     ]
    }
   ],
   "source": [
    "myfunc(ankit)"
   ]
  },
  {
   "cell_type": "code",
   "execution_count": 143,
   "id": "b522220d",
   "metadata": {},
   "outputs": [
    {
     "data": {
      "text/plain": [
       "'AAAnnnkkkiiittt'"
      ]
     },
     "execution_count": 143,
     "metadata": {},
     "output_type": "execute_result"
    }
   ],
   "source": [
    "myfunc('Ankit')"
   ]
  },
  {
   "cell_type": "code",
   "execution_count": 144,
   "id": "a61675df",
   "metadata": {},
   "outputs": [],
   "source": [
    "def myfunc(a,b,c):\n",
    "    if sum((a,b,c)) <= 21:\n",
    "        return sum((a,b,c))\n",
    "    elif sum((a,b,c)) <=31 and 11 in (a,b,c):\n",
    "        return sum((a,b,c)) - 10\n",
    "    \n",
    "    else:\n",
    "        return 'Bust'"
   ]
  },
  {
   "cell_type": "code",
   "execution_count": 145,
   "id": "36fc35b7",
   "metadata": {},
   "outputs": [
    {
     "data": {
      "text/plain": [
       "17"
      ]
     },
     "execution_count": 145,
     "metadata": {},
     "output_type": "execute_result"
    }
   ],
   "source": [
    "myfunc(3,6,8)"
   ]
  },
  {
   "cell_type": "code",
   "execution_count": 146,
   "id": "64d47d31",
   "metadata": {},
   "outputs": [
    {
     "ename": "SyntaxError",
     "evalue": "invalid syntax (2221219000.py, line 1)",
     "output_type": "error",
     "traceback": [
      "\u001b[1;36m  File \u001b[1;32m\"C:\\Users\\Maadurga computer\\AppData\\Local\\Temp\\ipykernel_22904\\2221219000.py\"\u001b[1;36m, line \u001b[1;32m1\u001b[0m\n\u001b[1;33m    def myfunc(list[]):\u001b[0m\n\u001b[1;37m                   ^\u001b[0m\n\u001b[1;31mSyntaxError\u001b[0m\u001b[1;31m:\u001b[0m invalid syntax\n"
     ]
    }
   ],
   "source": [
    "def myfunc(list[]):\n",
    "    "
   ]
  },
  {
   "cell_type": "code",
   "execution_count": 147,
   "id": "4c00f484",
   "metadata": {},
   "outputs": [
    {
     "ename": "SyntaxError",
     "evalue": "invalid syntax (3023518204.py, line 4)",
     "output_type": "error",
     "traceback": [
      "\u001b[1;36m  File \u001b[1;32m\"C:\\Users\\Maadurga computer\\AppData\\Local\\Temp\\ipykernel_22904\\3023518204.py\"\u001b[1;36m, line \u001b[1;32m4\u001b[0m\n\u001b[1;33m    for nu\u001b[0m\n\u001b[1;37m          ^\u001b[0m\n\u001b[1;31mSyntaxError\u001b[0m\u001b[1;31m:\u001b[0m invalid syntax\n"
     ]
    }
   ],
   "source": [
    "def myfunc(arr):\n",
    "    total = 0\n",
    "    add = True\n",
    "    for nu"
   ]
  },
  {
   "cell_type": "code",
   "execution_count": 148,
   "id": "f865fde1",
   "metadata": {},
   "outputs": [],
   "source": [
    "def myfunc(nums):\n",
    "    for i in range(0, len(nums)-1):\n",
    "        if nums[1] == 3 and  nums[i+1]==3:\n",
    "            return True\n",
    "    return False    "
   ]
  },
  {
   "cell_type": "code",
   "execution_count": 151,
   "id": "608865a7",
   "metadata": {},
   "outputs": [],
   "source": [
    "def myfunc(nums):\n",
    "    \n",
    "    code = [0,0,7,'x']\n",
    "    \n",
    "    for num in nums:\n",
    "        if num == code[0]:\n",
    "            code.pop(0)\n",
    "    return len(code) == 1        "
   ]
  },
  {
   "cell_type": "code",
   "execution_count": 152,
   "id": "2e59fc2e",
   "metadata": {},
   "outputs": [
    {
     "data": {
      "text/plain": [
       "True"
      ]
     },
     "execution_count": 152,
     "metadata": {},
     "output_type": "execute_result"
    }
   ],
   "source": [
    "myfunc([1,2,3,4,5,6,0,0,6,3,7])"
   ]
  },
  {
   "cell_type": "code",
   "execution_count": 161,
   "id": "0defe90d",
   "metadata": {},
   "outputs": [],
   "source": [
    "def squre(num): return num**2"
   ]
  },
  {
   "cell_type": "code",
   "execution_count": 162,
   "id": "181209d1",
   "metadata": {},
   "outputs": [
    {
     "data": {
      "text/plain": [
       "4"
      ]
     },
     "execution_count": 162,
     "metadata": {},
     "output_type": "execute_result"
    }
   ],
   "source": [
    "squre(2)"
   ]
  },
  {
   "cell_type": "code",
   "execution_count": 163,
   "id": "3ee02d79",
   "metadata": {},
   "outputs": [
    {
     "data": {
      "text/plain": [
       "<function __main__.<lambda>(num)>"
      ]
     },
     "execution_count": 163,
     "metadata": {},
     "output_type": "execute_result"
    }
   ],
   "source": [
    "lambda num: num**2"
   ]
  },
  {
   "cell_type": "code",
   "execution_count": 165,
   "id": "acc99b06",
   "metadata": {},
   "outputs": [],
   "source": [
    "square = lambda num:num**2"
   ]
  },
  {
   "cell_type": "code",
   "execution_count": 167,
   "id": "df765f42",
   "metadata": {},
   "outputs": [
    {
     "data": {
      "text/plain": [
       "9"
      ]
     },
     "execution_count": 167,
     "metadata": {},
     "output_type": "execute_result"
    }
   ],
   "source": [
    "square(3)"
   ]
  },
  {
   "cell_type": "code",
   "execution_count": null,
   "id": "82171517",
   "metadata": {},
   "outputs": [],
   "source": []
  }
 ],
 "metadata": {
  "kernelspec": {
   "display_name": "Python 3 (ipykernel)",
   "language": "python",
   "name": "python3"
  },
  "language_info": {
   "codemirror_mode": {
    "name": "ipython",
    "version": 3
   },
   "file_extension": ".py",
   "mimetype": "text/x-python",
   "name": "python",
   "nbconvert_exporter": "python",
   "pygments_lexer": "ipython3",
   "version": "3.9.13"
  }
 },
 "nbformat": 4,
 "nbformat_minor": 5
}
