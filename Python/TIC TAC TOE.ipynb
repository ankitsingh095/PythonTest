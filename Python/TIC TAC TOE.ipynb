{
 "cells": [
  {
   "cell_type": "code",
   "execution_count": null,
   "id": "bafa02b7",
   "metadata": {},
   "outputs": [],
   "source": [
    "print([1,2,3])"
   ]
  },
  {
   "cell_type": "code",
   "execution_count": null,
   "id": "1ecd300e",
   "metadata": {},
   "outputs": [],
   "source": [
    "print([1,2,3])\n",
    "print([4,5,6])\n",
    "print([7,8,9])"
   ]
  },
  {
   "cell_type": "code",
   "execution_count": null,
   "id": "8d88ca85",
   "metadata": {},
   "outputs": [],
   "source": [
    "def display(row1, row2, row3):\n",
    "    print(row1)\n",
    "    print(row2)\n",
    "    print(row3)"
   ]
  },
  {
   "cell_type": "code",
   "execution_count": null,
   "id": "37ab9218",
   "metadata": {},
   "outputs": [],
   "source": [
    "example_row=[1,2,3]\n",
    "\n",
    "display(example_row,example_row,example_row)"
   ]
  },
  {
   "cell_type": "code",
   "execution_count": null,
   "id": "619f93ee",
   "metadata": {},
   "outputs": [],
   "source": [
    "print(example_row,example_row,example_row)"
   ]
  },
  {
   "cell_type": "code",
   "execution_count": null,
   "id": "0780f82a",
   "metadata": {},
   "outputs": [],
   "source": [
    "row1=[' ', ' ', ' ']\n",
    "row2=[' ', ' ', ' ']\n",
    "row3=[' ', ' ', ' ']"
   ]
  },
  {
   "cell_type": "code",
   "execution_count": null,
   "id": "6067c4d3",
   "metadata": {},
   "outputs": [],
   "source": [
    "display(row1, row2, row3)"
   ]
  },
  {
   "cell_type": "code",
   "execution_count": null,
   "id": "64b6e415",
   "metadata": {},
   "outputs": [],
   "source": [
    "row2[1] = 'X'\n"
   ]
  },
  {
   "cell_type": "code",
   "execution_count": null,
   "id": "08764e6d",
   "metadata": {},
   "outputs": [],
   "source": [
    "display(row1, row2, row3)"
   ]
  },
  {
   "cell_type": "code",
   "execution_count": null,
   "id": "9fb92750",
   "metadata": {},
   "outputs": [],
   "source": [
    "input(\"Please enter a value:\")"
   ]
  },
  {
   "cell_type": "code",
   "execution_count": null,
   "id": "51840af8",
   "metadata": {},
   "outputs": [],
   "source": [
    "result = input(\"Please enter a value\")"
   ]
  },
  {
   "cell_type": "code",
   "execution_count": null,
   "id": "4bef861f",
   "metadata": {},
   "outputs": [],
   "source": [
    "result"
   ]
  },
  {
   "cell_type": "code",
   "execution_count": null,
   "id": "2e7b659c",
   "metadata": {},
   "outputs": [],
   "source": [
    "result = input(\"Enter value:\")"
   ]
  },
  {
   "cell_type": "raw",
   "id": "8051cffe",
   "metadata": {},
   "source": [
    "result"
   ]
  },
  {
   "cell_type": "raw",
   "id": "a573a05d",
   "metadata": {},
   "source": []
  },
  {
   "cell_type": "code",
   "execution_count": null,
   "id": "f0d425e8",
   "metadata": {},
   "outputs": [],
   "source": [
    "result"
   ]
  },
  {
   "cell_type": "code",
   "execution_count": null,
   "id": "996fb502",
   "metadata": {},
   "outputs": [],
   "source": [
    "int(result)"
   ]
  },
  {
   "cell_type": "code",
   "execution_count": null,
   "id": "79112e63",
   "metadata": {},
   "outputs": [],
   "source": [
    "type(result)"
   ]
  },
  {
   "cell_type": "code",
   "execution_count": null,
   "id": "eca8b2eb",
   "metadata": {},
   "outputs": [],
   "source": [
    "type(int(result))"
   ]
  },
  {
   "cell_type": "code",
   "execution_count": null,
   "id": "91bb97a7",
   "metadata": {},
   "outputs": [],
   "source": [
    "result_int = int(result)"
   ]
  },
  {
   "cell_type": "code",
   "execution_count": null,
   "id": "76b6abe1",
   "metadata": {},
   "outputs": [],
   "source": [
    "result_int"
   ]
  },
  {
   "cell_type": "code",
   "execution_count": null,
   "id": "5074860e",
   "metadata": {},
   "outputs": [],
   "source": [
    "position_index = input(\"Choose an index position:\")"
   ]
  },
  {
   "cell_type": "code",
   "execution_count": null,
   "id": "81d693e7",
   "metadata": {},
   "outputs": [],
   "source": [
    "position_index = input(\"Choose an index position:\")"
   ]
  },
  {
   "cell_type": "code",
   "execution_count": null,
   "id": "3f46a924",
   "metadata": {},
   "outputs": [],
   "source": [
    "row1=[position_index]"
   ]
  },
  {
   "cell_type": "code",
   "execution_count": null,
   "id": "589890e3",
   "metadata": {},
   "outputs": [],
   "source": [
    "row1[1]=2"
   ]
  },
  {
   "cell_type": "code",
   "execution_count": null,
   "id": "73dd4262",
   "metadata": {},
   "outputs": [],
   "source": [
    "display(row1,row2,row3)"
   ]
  },
  {
   "cell_type": "code",
   "execution_count": null,
   "id": "95373d4a",
   "metadata": {},
   "outputs": [],
   "source": [
    "row2[position_index]"
   ]
  },
  {
   "cell_type": "code",
   "execution_count": null,
   "id": "ed562d07",
   "metadata": {},
   "outputs": [],
   "source": [
    "input(\"Enter number\")"
   ]
  },
  {
   "cell_type": "code",
   "execution_count": 3,
   "id": "14539661",
   "metadata": {},
   "outputs": [],
   "source": [
    "def user_choice():\n",
    "    choice = input(\"Please enter a number from 1-10:\")\n",
    "    \n",
    "    return choice"
   ]
  },
  {
   "cell_type": "code",
   "execution_count": 4,
   "id": "5a5724dc",
   "metadata": {},
   "outputs": [
    {
     "name": "stdout",
     "output_type": "stream",
     "text": [
      "Please enter a number from 1-10:90\n"
     ]
    },
    {
     "data": {
      "text/plain": [
       "'90'"
      ]
     },
     "execution_count": 4,
     "metadata": {},
     "output_type": "execute_result"
    }
   ],
   "source": [
    "user_choice()"
   ]
  },
  {
   "cell_type": "code",
   "execution_count": 16,
   "id": "258ea3fd",
   "metadata": {},
   "outputs": [],
   "source": [
    "def user_choice():\n",
    "    choice = 'Wrong'\n",
    "    \n",
    "    while choice.isdigit() == False:\n",
    "        \n",
    "        choice = input(\"Please enter the number(0-10):\")\n",
    "        \n",
    "        if choice.isdigit() ==False:\n",
    "            print(\"Sorry the input was wrong!\")\n",
    "            \n",
    "    return int(choice)        \n"
   ]
  },
  {
   "cell_type": "code",
   "execution_count": 15,
   "id": "a1f043a9",
   "metadata": {},
   "outputs": [
    {
     "ename": "NameError",
     "evalue": "name 'three' is not defined",
     "output_type": "error",
     "traceback": [
      "\u001b[1;31m---------------------------------------------------------------------------\u001b[0m",
      "\u001b[1;31mNameError\u001b[0m                                 Traceback (most recent call last)",
      "\u001b[1;32m~\\AppData\\Local\\Temp\\ipykernel_4196\\1622443045.py\u001b[0m in \u001b[0;36m<module>\u001b[1;34m\u001b[0m\n\u001b[1;32m----> 1\u001b[1;33m \u001b[0muser_choice\u001b[0m\u001b[1;33m(\u001b[0m\u001b[0mthree\u001b[0m\u001b[1;33m)\u001b[0m\u001b[1;33m\u001b[0m\u001b[1;33m\u001b[0m\u001b[0m\n\u001b[0m",
      "\u001b[1;31mNameError\u001b[0m: name 'three' is not defined"
     ]
    }
   ],
   "source": [
    "user_choice(three)"
   ]
  },
  {
   "cell_type": "code",
   "execution_count": null,
   "id": "e4799d25",
   "metadata": {},
   "outputs": [],
   "source": []
  },
  {
   "cell_type": "code",
   "execution_count": null,
   "id": "21abecd6",
   "metadata": {},
   "outputs": [],
   "source": []
  }
 ],
 "metadata": {
  "kernelspec": {
   "display_name": "Python 3 (ipykernel)",
   "language": "python",
   "name": "python3"
  },
  "language_info": {
   "codemirror_mode": {
    "name": "ipython",
    "version": 3
   },
   "file_extension": ".py",
   "mimetype": "text/x-python",
   "name": "python",
   "nbconvert_exporter": "python",
   "pygments_lexer": "ipython3",
   "version": "3.9.13"
  }
 },
 "nbformat": 4,
 "nbformat_minor": 5
}
